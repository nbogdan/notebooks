{
 "cells": [
  {
   "cell_type": "markdown",
   "metadata": {},
   "source": [
    "# 1. Introducere\n",
    "Ne propunem sa studiem Python 3 pentr a dezvolta aptitudini medii si a-l putea folosi ca limbaj de baza pentru dezvoltarea aplicatiilor web.\n",
    "Nota: Pentru a rula codul dintr-o casuta de cod, apasati ALT+ENTER\n",
    "Spre deosebire de limbajele clasice (C, Java) Python este mult mai flexibil. Niste deosebiri intre acestea si Python sunt:\n",
    "* Python nu necesita specificarea tipului unei variabile la initializare (int, char, float), ci asociaza automat un tip in functie de valoarea transmisa\n",
    "* In Python nu este necesar sa incheiem o linie de cod cu punct si virgula.\n",
    "\n",
    "Alte deosebiri vor fi adaugate pe parcurs.\n",
    "\n",
    "Ca sa nu ne mai lungim, vom incepe cu prima noastra linie de cod in Python, un 'Hello World'.\n",
    "\n",
    "Nota: Daca doriti sa schimbati codul, dati click pe casuta, faceti modificarile dorite, iar apoi apasati ALT+ENTER pentru a observa cum ruleaza noul cod."
   ]
  },
  {
   "cell_type": "code",
   "execution_count": 5,
   "metadata": {},
   "outputs": [
    {
     "name": "stdout",
     "output_type": "stream",
     "text": [
      "Hello world\n",
      "Hello Maria\n"
     ]
    }
   ],
   "source": [
    "print('Hello world')\n",
    "\n",
    "nume_utilizator = 'Maria'\n",
    "print('Hello', nume_utilizator)"
   ]
  },
  {
   "cell_type": "markdown",
   "metadata": {},
   "source": [
    "Dupa cum vedeti instructiunea este mult mai simpla. Pur si simplu folosim functia print() pentru a afisa un string (sir de caractere). Daca vrem sa afisam mai multe lucruri, le putem enumera cu virgula, iar functia le va afisa separate printr-un spatiu."
   ]
  },
  {
   "cell_type": "markdown",
   "metadata": {},
   "source": [
    "# 2. Variabile\n",
    "\n",
    "In acest capitol vom lucra cu variabile, in principiu numere si string-uri. "
   ]
  },
  {
   "cell_type": "code",
   "execution_count": 6,
   "metadata": {},
   "outputs": [
    {
     "name": "stdout",
     "output_type": "stream",
     "text": [
      "Acesta este a:  2 \n",
      "Acesta este b:  33 \n",
      "Acesta este c:  Ana are mere\n"
     ]
    }
   ],
   "source": [
    "a = 2\n",
    "b = 33\n",
    "c = \"Ana are mere\"\n",
    "print('Acesta este a: ', a, '\\nAcesta este b: ', b, '\\nAcesta este c: ', c)"
   ]
  },
  {
   "cell_type": "markdown",
   "metadata": {},
   "source": [
    "Nota: observati ca functia print() a afisat variabilele a si b, chiar daca acestea nu sunt string-uri. Aceasta actiune a putut fi realizata deoarece functia le face o transformare la string, prin aplicarea implicita functiei str().\n",
    "Tipurile de baza au cate o functie care permite convertirea de la alte tipuri. (spre exemplu int(), float(), etc.)\n",
    "\n",
    "Daca dorim sa aflam tipul unei variabile/valori putem folosi functia type()."
   ]
  },
  {
   "cell_type": "code",
   "execution_count": 19,
   "metadata": {},
   "outputs": [
    {
     "name": "stdout",
     "output_type": "stream",
     "text": [
      "<class 'int'>\n",
      "<class 'str'>\n",
      "<class 'float'>\n",
      "<class 'int'>\n"
     ]
    },
    {
     "ename": "ValueError",
     "evalue": "invalid literal for int() with base 10: 'nueunnumar'",
     "output_type": "error",
     "traceback": [
      "\u001b[1;31m---------------------------------------------------------------------------\u001b[0m",
      "\u001b[1;31mValueError\u001b[0m                                Traceback (most recent call last)",
      "\u001b[1;32m<ipython-input-19-c4f15b700a43>\u001b[0m in \u001b[0;36m<module>\u001b[1;34m()\u001b[0m\n\u001b[0;32m     12\u001b[0m \u001b[1;33m\u001b[0m\u001b[0m\n\u001b[0;32m     13\u001b[0m \u001b[1;31m# daca incercam sa convertim un string care nu este un numar la tipul int vom obtine o eroare\u001b[0m\u001b[1;33m\u001b[0m\u001b[1;33m\u001b[0m\u001b[0m\n\u001b[1;32m---> 14\u001b[1;33m \u001b[0mprint\u001b[0m\u001b[1;33m(\u001b[0m\u001b[0mtype\u001b[0m\u001b[1;33m(\u001b[0m\u001b[0mint\u001b[0m\u001b[1;33m(\u001b[0m\u001b[1;34m'nueunnumar'\u001b[0m\u001b[1;33m)\u001b[0m\u001b[1;33m)\u001b[0m\u001b[1;33m)\u001b[0m\u001b[1;33m\u001b[0m\u001b[0m\n\u001b[0m",
      "\u001b[1;31mValueError\u001b[0m: invalid literal for int() with base 10: 'nueunnumar'"
     ]
    }
   ],
   "source": [
    "# tipul pentru 22 va fi implicit int\n",
    "print(type(22))\n",
    "\n",
    "# convertim 22 la str, deci tipul va fi str\n",
    "print(type(str(22)))\n",
    "\n",
    "# convertim in tipul float\n",
    "print(type(float(22)))\n",
    "\n",
    "# convertim un string cu un numar la tipul int\n",
    "print(type(int('11')))\n",
    "\n",
    "# daca incercam sa convertim un string care nu este un numar la tipul int vom obtine o eroare\n",
    "print(type(int('nueunnumar')))\n"
   ]
  },
  {
   "cell_type": "markdown",
   "metadata": {},
   "source": [
    "## 2.1 Operatii cu variabile\n",
    "### Tipuri numerice\n",
    "Toate operatiile matematice clasice se pot realiza folosind tipurile numerice."
   ]
  },
  {
   "cell_type": "code",
   "execution_count": 34,
   "metadata": {},
   "outputs": [
    {
     "name": "stdout",
     "output_type": "stream",
     "text": [
      "286\n",
      "35\n",
      "9\n",
      "1.6923076923076923\n",
      "9\n",
      "164.59090909090907\n"
     ]
    }
   ],
   "source": [
    "a = 22\n",
    "b = 13\n",
    "# inmultire\n",
    "print(a * b)\n",
    "# adunare\n",
    "print(a + b)\n",
    "# scadere\n",
    "print(a - b)\n",
    "# impartire exacta\n",
    "print(a / b)\n",
    "# operatia de mod (extragerea restului impartirii)\n",
    "print(a % b)\n",
    "\n",
    "# operatii mai complexe\n",
    "print(a * b + (b / a + a) - 2 * (3 * (a + b - a / 2)))"
   ]
  },
  {
   "cell_type": "markdown",
   "metadata": {},
   "source": [
    "Nota: Spre deosebire de matematica aici toate parantezarile (indiferent de cate niveluri ar fi) se realizeaza cu paranteza rotunda '()'. \n",
    "Parantezele patrate '[]' si acoladele '{}' au alte utilizari."
   ]
  },
  {
   "cell_type": "markdown",
   "metadata": {},
   "source": [
    "Pe langa operatii standard, python permite si realizarea unor operatii mai complexe cum ar fi ridicarea la putere, extragerea radacinii, extragerea semnului unei variabile, etc.\n",
    "Anumite functii nu se gasesc in biblioteca standard de functii, de aceea trebuie sa le importam din diverse biblioteci. Spre exemplu din biblioteca 'math' putem importa functiile sqrt(radical) sau sin(sinus)"
   ]
  },
  {
   "cell_type": "code",
   "execution_count": 32,
   "metadata": {},
   "outputs": [
    {
     "name": "stdout",
     "output_type": "stream",
     "text": [
      "16\n",
      "16.0\n",
      "0.9999999560952156\n"
     ]
    }
   ],
   "source": [
    "from math import sqrt, sin\n",
    "\n",
    "# calculam 2 la puterea a 4-a\n",
    "print(pow(2, 4))\n",
    "\n",
    "# calculam radical din 256\n",
    "print(sqrt(256))\n",
    "\n",
    "# calculam sinus de pi/2\n",
    "print(sin(3.141/2))"
   ]
  },
  {
   "cell_type": "markdown",
   "metadata": {},
   "source": [
    "### String-uri\n",
    "Operatiile cu string-uri cu care erati obisnuiti in limbajele clasice (concatenare, calcularea lungimii, extragerea unui substring, etc) sunt disponibile si in Python sub forme simplificate. Exemple mai jos."
   ]
  },
  {
   "cell_type": "code",
   "execution_count": 41,
   "metadata": {},
   "outputs": [
    {
     "name": "stdout",
     "output_type": "stream",
     "text": [
      "Un stringAlt string\n",
      "9\n",
      "n string\n",
      "Un strin\n",
      "n s\n"
     ]
    }
   ],
   "source": [
    "a = \"Un string\"\n",
    "b = \"Alt string\"\n",
    "\n",
    "# concatenarea string-urilor\n",
    "print(a + b)\n",
    "\n",
    "# calcularea lungimii\n",
    "print(len(a))\n",
    "\n",
    "# eliminarea primei litere\n",
    "print(a[1:])\n",
    "\n",
    "# eliminarea ultimei litere\n",
    "print(a[:-1])\n",
    "\n",
    "\n",
    "# extragerea unui substring\n",
    "print(a[1:4]) #sarim peste 1-ul caracter, si le extragem pe restul pana la caracterul 4\n"
   ]
  },
  {
   "cell_type": "markdown",
   "metadata": {},
   "source": [
    "Exista si operatii mai complexe, in functie de ce dorim sa facem cu acele string-uri:\n",
    "* split() permite spargerea unui string in mai multe, pe baza unui separator dat\n",
    "* strip() elimina spatiile libere de la finalul string-ului\n",
    "\n",
    "Nota: split() este o functie proprietate(o metoda) a elementelor de tip string. Ea nu primeste string-ul ca parametru, ci este apelata ca un element al string-ului. Mai multe detalii vor fi oferite cand vom ajunge la sectiunea OOP a cursului."
   ]
  },
  {
   "cell_type": "code",
   "execution_count": 45,
   "metadata": {},
   "outputs": [
    {
     "name": "stdout",
     "output_type": "stream",
     "text": [
      "['Ana', 'are', 'multe', 'mere']\n",
      "['Ana a', ' multe me', '']\n",
      "['Ana are mul', 'mere']\n",
      "['Ana are multe mere']\n"
     ]
    }
   ],
   "source": [
    "a = 'Ana are multe mere'\n",
    "\n",
    "# 'spargem' string-ul dupa caracterul spatiu ' ', obtinand o lista de cuvinte\n",
    "print(a.split(' '))\n",
    "\n",
    "# 'spargeri' neortodoxe\n",
    "print(a.split('re')) # se observa ca daca sirul separator se afla la final, rezulta si un sir vid ca urmare a operatiei de split\n",
    "print(a.split('te '))\n",
    "print(a.split('xxx')) # daca separatorul nu apare in text, obtinem o lista continand string-ul initial"
   ]
  },
  {
   "cell_type": "code",
   "execution_count": 49,
   "metadata": {},
   "outputs": [
    {
     "name": "stdout",
     "output_type": "stream",
     "text": [
      "sir cu spatii la sfarsit \t  Ana are multe mere\n",
      "sir cu spatii la sfarsit Ana are multe mere\n"
     ]
    }
   ],
   "source": [
    "b = 'sir cu spatii la sfarsit \\t '\n",
    "print(b, a)\n",
    "print(b.strip(), a) # strip elimina caracterele de spatiu sau tab de la finalul unui string\n",
    "\n"
   ]
  },
  {
   "cell_type": "markdown",
   "metadata": {},
   "source": [
    "## 2.2 Exercitii\n",
    "Ionel are un aprozar unde vinde mere si pere. El isi trece in jurnal numarul de mere si de pere pe care le are la dispozitie.\n",
    "1. Introduceti in variabilele nr_pere si nr_mere valorile aferente din textul jurnal\n",
    "2. Folosind variabilele pret_pere si pret_mere, calculati care va fi venitul lui Ionel dupa vanzarea tuturor fructelor\n",
    "3. Convertiti venitul obtinut intr-o valoare intreaga.\n"
   ]
  },
  {
   "cell_type": "code",
   "execution_count": null,
   "metadata": {
    "collapsed": true
   },
   "outputs": [],
   "source": [
    "jurnal = \"Marti, 10 feb. 2017 Astazi am de vanzare 15 mere si 26 pere.\"\n",
    "pret_pere = 1.33\n",
    "pret_mere = 1.56\n",
    "\n",
    "nr_pere = -1 # TODO a se corecta\n",
    "nr_mere = -1 # TODO a se corecta\n",
    "\n",
    "venit = -1 # TODO a se corecta\n",
    "\n",
    "venit_rotunjit = -1 # TODO a se corecta"
   ]
  }
 ],
 "metadata": {
  "celltoolbar": "Edit Metadata",
  "kernelspec": {
   "display_name": "Python 3",
   "language": "python",
   "name": "python3"
  },
  "language_info": {
   "codemirror_mode": {
    "name": "ipython",
    "version": 3
   },
   "file_extension": ".py",
   "mimetype": "text/x-python",
   "name": "python",
   "nbconvert_exporter": "python",
   "pygments_lexer": "ipython3",
   "version": "3.5.3"
  }
 },
 "nbformat": 4,
 "nbformat_minor": 2
}
