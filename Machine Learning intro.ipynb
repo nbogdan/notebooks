{
 "cells": [
  {
   "cell_type": "code",
   "execution_count": 5,
   "metadata": {
    "collapsed": true
   },
   "outputs": [],
   "source": [
    "from IPython.display import Image\n",
    "from IPython.core.display import HTML \n"
   ]
  },
  {
   "cell_type": "markdown",
   "metadata": {},
   "source": [
    "## __Definition__: \n",
    "Machine learning is a field of computer science that gives computers the __ability to learn without being explicitly programmed__.\n",
    "\n",
    "## __Types of problems__:\n",
    "\n",
    "### __1. Supervised learning:__  \n",
    "   The computer is presented with example inputs and their desired outputs, given by a \"teacher\", and the goal is to learn a general rule that __maps inputs to outputs__.\n",
    "\n",
    "   __1.1 Regression problems:__ The outputs are continuous. (e.g. Predict the price of a house, given a set of parameters)\n",
    "\n"
   ]
  },
  {
   "cell_type": "code",
   "execution_count": 10,
   "metadata": {},
   "outputs": [
    {
     "data": {
      "text/html": [
       "<img src=\"https://i.pinimg.com/originals/fe/aa/1a/feaa1a16a315823b2d9ad24da7eccdaf.png\"/>"
      ],
      "text/plain": [
       "<IPython.core.display.Image object>"
      ]
     },
     "execution_count": 10,
     "metadata": {},
     "output_type": "execute_result"
    }
   ],
   "source": [
    "Image(url = \"https://i.pinimg.com/originals/fe/aa/1a/feaa1a16a315823b2d9ad24da7eccdaf.png\")"
   ]
  },
  {
   "cell_type": "markdown",
   "metadata": {},
   "source": [
    "   __1.2 Classification problems:__ The outputs are discrete. (e.g. Predict in which of the four Houses of Hogwarts School of Witchcraft and Wizardry you belong, based on a set of parameters)\n",
    "\n",
    "  "
   ]
  },
  {
   "cell_type": "code",
   "execution_count": 9,
   "metadata": {},
   "outputs": [
    {
     "data": {
      "text/html": [
       "<img src=\"http://en.proft.me/media/science/ml_classification.jpg\"/>"
      ],
      "text/plain": [
       "<IPython.core.display.Image object>"
      ]
     },
     "execution_count": 9,
     "metadata": {},
     "output_type": "execute_result"
    }
   ],
   "source": [
    "Image(url = \"http://en.proft.me/media/science/ml_classification.jpg\")"
   ]
  },
  {
   "cell_type": "markdown",
   "metadata": {},
   "source": [
    " __Examples of algorithms:__ Support Vector Machine, Decision Trees, Perceptron, Random Forrest, etc.\n",
    "\n",
    "### __2. Unsupervised learning:__ \n",
    "   No labels are given. The algorithm must find __structure in its input__.\n",
    "\n",
    "   __2.1 Clustering:__ Dividing a set of entries into groups based on a distance metric.\n",
    "\n",
    "   "
   ]
  },
  {
   "cell_type": "code",
   "execution_count": 8,
   "metadata": {},
   "outputs": [
    {
     "data": {
      "text/html": [
       "<img src=\"https://www.mathworks.com/matlabcentral/mlc-downloads/downloads/submissions/24616/versions/14/screenshot.jpg\"/>"
      ],
      "text/plain": [
       "<IPython.core.display.Image object>"
      ]
     },
     "execution_count": 8,
     "metadata": {},
     "output_type": "execute_result"
    }
   ],
   "source": [
    "Image(url = \"https://www.mathworks.com/matlabcentral/mlc-downloads/downloads/submissions/24616/versions/14/screenshot.jpg\")"
   ]
  },
  {
   "cell_type": "markdown",
   "metadata": {},
   "source": [
    "__2.2 Dimensionality reduction:__ Maps a vector of features to a corresponding vector in a lower-dimensional space with minimum information loss."
   ]
  },
  {
   "cell_type": "code",
   "execution_count": 6,
   "metadata": {},
   "outputs": [
    {
     "data": {
      "text/html": [
       "<img src=\"http://bigdata.csail.mit.edu/sites/bigdata/files/projection_image.jpg\"/>"
      ],
      "text/plain": [
       "<IPython.core.display.Image object>"
      ]
     },
     "execution_count": 6,
     "metadata": {},
     "output_type": "execute_result"
    }
   ],
   "source": [
    "Image(url = \"http://www.turingfinance.com/wp-content/uploads/2014/10/Dimensionality.png\")\n"
   ]
  }
 ],
 "metadata": {
  "kernelspec": {
   "display_name": "Python 3",
   "language": "python",
   "name": "python3"
  },
  "language_info": {
   "codemirror_mode": {
    "name": "ipython",
    "version": 3
   },
   "file_extension": ".py",
   "mimetype": "text/x-python",
   "name": "python",
   "nbconvert_exporter": "python",
   "pygments_lexer": "ipython3",
   "version": "3.5.3"
  }
 },
 "nbformat": 4,
 "nbformat_minor": 2
}
