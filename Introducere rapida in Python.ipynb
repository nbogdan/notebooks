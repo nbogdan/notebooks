{
 "cells": [
  {
   "cell_type": "markdown",
   "metadata": {},
   "source": [
    "# 1. Introduction\n",
    "We will be using Python 3 for our short intro to Machine learning.\n",
    "\n",
    "[insert python characteristics]\n",
    "\n",
    "Note: If you want to change the code, just click the textbox, make the desired changes and then press CTRL+ENTER to run it."
   ]
  },
  {
   "cell_type": "code",
   "execution_count": 42,
   "metadata": {},
   "outputs": [
    {
     "name": "stdout",
     "output_type": "stream",
     "text": [
      "Hallo Welt\n"
     ]
    }
   ],
   "source": [
    "print('Hallo Welt')"
   ]
  },
  {
   "cell_type": "markdown",
   "metadata": {},
   "source": [
    "# 2. Variables\n",
    "\n",
    "In this chapter we'll look at how we can work with variables and simple data structures"
   ]
  },
  {
   "cell_type": "code",
   "execution_count": 43,
   "metadata": {},
   "outputs": [
    {
     "name": "stdout",
     "output_type": "stream",
     "text": [
      "a:  2 \n",
      "b:  33 \n",
      "c:  Ana has apples\n"
     ]
    }
   ],
   "source": [
    "# we can just define them as \"variable = value\" and the variable's type will be inferred based on the value\n",
    "a = 2\n",
    "b = 33\n",
    "c = \"Ana has apples\"\n",
    "print('a: ', a, '\\nb: ', b, '\\nc: ', c)"
   ]
  },
  {
   "cell_type": "markdown",
   "metadata": {},
   "source": [
    "If we want to quickly group more variables we can use lists and dictionaries.\n"
   ]
  },
  {
   "cell_type": "code",
   "execution_count": 44,
   "metadata": {},
   "outputs": [
    {
     "data": {
      "text/plain": [
       "{'age': 23, 'name': 'John', 'religion': 'pastafarian'}"
      ]
     },
     "execution_count": 44,
     "metadata": {},
     "output_type": "execute_result"
    }
   ],
   "source": [
    "# simple list example\n",
    "[1, 2, 3, 4]\n",
    "\n",
    "# a list is not constrained to a certain type\n",
    "[2, 3, '4', True]\n",
    "\n",
    "# we can have multilevel lists\n",
    "[1, [2, 3, [4, [5]]]]\n",
    "\n",
    "# simple dictionary example\n",
    "{'name': 'John', 'age': 23, 'religion': 'pastafarian'}\n"
   ]
  },
  {
   "cell_type": "markdown",
   "metadata": {},
   "source": [
    "## 2.1 Operations with variables\n"
   ]
  },
  {
   "cell_type": "code",
   "execution_count": 45,
   "metadata": {},
   "outputs": [
    {
     "name": "stdout",
     "output_type": "stream",
     "text": [
      "286\n",
      "35\n",
      "1.6923076923076923\n",
      "9\n",
      "164.59090909090907\n"
     ]
    }
   ],
   "source": [
    "a = 22\n",
    "b = 13\n",
    "# multiplication\n",
    "print(a * b)\n",
    "# addition\n",
    "print(a + b)\n",
    "# division\n",
    "print(a / b)\n",
    "# modulo\n",
    "print(a % b)\n",
    "\n",
    "# What dreams may come\n",
    "print(a * b + (b / a + a) - 2 * (3 * (a + b - a / 2)))"
   ]
  },
  {
   "cell_type": "markdown",
   "metadata": {},
   "source": [
    "List/dictionary operations"
   ]
  },
  {
   "cell_type": "code",
   "execution_count": 46,
   "metadata": {},
   "outputs": [
    {
     "name": "stdout",
     "output_type": "stream",
     "text": [
      "[0, 1, 2, 3, 4, 5, 6, 7, 8, 9, 90, 89, 86, 81, 74, 65, 54, 41, 26, 9]\n",
      "[0, 1, 2, 3, 4, 5, 6, 7, 8, 9, 0, 1, 2, 3, 4, 5, 6, 7, 8, 9]\n"
     ]
    }
   ],
   "source": [
    "listDigits = list(range(10)) # [0, 1, 2 .. 9]\n",
    "listTwo = [90 - x * x for x in listDigits]\n",
    "\n",
    "print(listOne + listTwo)\n",
    "print(2 * listOne)"
   ]
  },
  {
   "cell_type": "code",
   "execution_count": 47,
   "metadata": {},
   "outputs": [
    {
     "name": "stdout",
     "output_type": "stream",
     "text": [
      "{'Liviu': 4, 'Calin': 5, 'Mircea': 6, 'Nicusor': 10, 'Traian': 5}\n",
      "{'Liviu': 4, 'Calin': 5, 'Nicusor': 10, 'Traian': 5}\n"
     ]
    }
   ],
   "source": [
    "gradesDictionary = {\n",
    "    'Liviu' : 4,\n",
    "    'Calin' : 5,\n",
    "    'Mircea' : 6,\n",
    "    'Nicusor' : 10\n",
    "}\n",
    "\n",
    "gradesDictionary['Traian'] = 5\n",
    "print(gradesDictionary)\n",
    "del gradesDictionary['Mircea']\n",
    "print(gradesDictionary)\n"
   ]
  },
  {
   "cell_type": "markdown",
   "metadata": {},
   "source": [
    "# 3. Instructions\n",
    "We will quickly go through the syntax for basic python instructions.\n"
   ]
  },
  {
   "cell_type": "code",
   "execution_count": 48,
   "metadata": {},
   "outputs": [
    {
     "name": "stdout",
     "output_type": "stream",
     "text": [
      "Digit\n"
     ]
    }
   ],
   "source": [
    "listDigits = list(range(10)) # [0, 1, 2 .. 9]\n",
    "a = 6\n",
    "if a in listDigits:\n",
    "    print('Digit')\n",
    "else:\n",
    "    print('Not digit')"
   ]
  },
  {
   "cell_type": "code",
   "execution_count": 49,
   "metadata": {},
   "outputs": [
    {
     "name": "stdout",
     "output_type": "stream",
     "text": [
      "0\n",
      "1\n",
      "4\n",
      "9\n",
      "16\n",
      "25\n",
      "36\n",
      "49\n",
      "64\n",
      "81\n"
     ]
    }
   ],
   "source": [
    "for digit in listDigits:\n",
    "    print(digit * digit)"
   ]
  },
  {
   "cell_type": "code",
   "execution_count": 50,
   "metadata": {},
   "outputs": [
    {
     "name": "stdout",
     "output_type": "stream",
     "text": [
      "[(2, True), (3, True), (4, False, 2), (5, True), (6, False, 2), (7, True), (8, False, 2), (9, False, 3)]\n"
     ]
    }
   ],
   "source": [
    "def isPrime(digit):\n",
    "    for i in range(2, digit):\n",
    "        if digit % i == 0:\n",
    "            return (digit, False, i)\n",
    "    return (digit, True)\n",
    "\n",
    "print([isPrime(x) for x in range(2, 10)])"
   ]
  }
 ],
 "metadata": {
  "celltoolbar": "Edit Metadata",
  "kernelspec": {
   "display_name": "Python 3",
   "language": "python",
   "name": "python3"
  },
  "language_info": {
   "codemirror_mode": {
    "name": "ipython",
    "version": 3
   },
   "file_extension": ".py",
   "mimetype": "text/x-python",
   "name": "python",
   "nbconvert_exporter": "python",
   "pygments_lexer": "ipython3",
   "version": "3.5.3"
  }
 },
 "nbformat": 4,
 "nbformat_minor": 2
}
